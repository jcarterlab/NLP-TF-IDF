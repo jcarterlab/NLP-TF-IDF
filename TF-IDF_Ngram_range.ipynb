{
 "cells": [
  {
   "cell_type": "markdown",
   "id": "dd490bc2-0b2b-4583-b01c-7db8a8632ba7",
   "metadata": {},
   "source": [
    "# TF-IDF: N-gram range"
   ]
  },
  {
   "cell_type": "markdown",
   "id": "878db841-b044-482d-a455-6c82f8a552a9",
   "metadata": {},
   "source": [
    "This notebook tests different n-gram ranges (sequences of words/numbers/symbols) when using TF-IDF and a bagging classifier on a [Kaggle essay scores](https://www.kaggle.com/competitions/learning-agency-lab-automated-essay-scoring-2) dataset of ~17,000 essays. The results suggest that including bigrams (an n-gram range of 2) in the TF-IDF vectorizer is sufficient for this task."
   ]
  },
  {
   "cell_type": "code",
   "execution_count": 1,
   "id": "9b7c5264-5672-4de3-8dd1-7a446e67d466",
   "metadata": {},
   "outputs": [
    {
     "data": {
      "text/html": [
       "<div>\n",
       "<style scoped>\n",
       "    .dataframe tbody tr th:only-of-type {\n",
       "        vertical-align: middle;\n",
       "    }\n",
       "\n",
       "    .dataframe tbody tr th {\n",
       "        vertical-align: top;\n",
       "    }\n",
       "\n",
       "    .dataframe thead th {\n",
       "        text-align: right;\n",
       "    }\n",
       "</style>\n",
       "<table border=\"1\" class=\"dataframe\">\n",
       "  <thead>\n",
       "    <tr style=\"text-align: right;\">\n",
       "      <th></th>\n",
       "      <th>essay_id</th>\n",
       "      <th>full_text</th>\n",
       "      <th>score</th>\n",
       "    </tr>\n",
       "  </thead>\n",
       "  <tbody>\n",
       "    <tr>\n",
       "      <th>0</th>\n",
       "      <td>000d118</td>\n",
       "      <td>Many people have car where they live. The thin...</td>\n",
       "      <td>3</td>\n",
       "    </tr>\n",
       "    <tr>\n",
       "      <th>1</th>\n",
       "      <td>000fe60</td>\n",
       "      <td>I am a scientist at NASA that is discussing th...</td>\n",
       "      <td>3</td>\n",
       "    </tr>\n",
       "    <tr>\n",
       "      <th>2</th>\n",
       "      <td>001ab80</td>\n",
       "      <td>People always wish they had the same technolog...</td>\n",
       "      <td>4</td>\n",
       "    </tr>\n",
       "    <tr>\n",
       "      <th>3</th>\n",
       "      <td>001bdc0</td>\n",
       "      <td>We all heard about Venus, the planet without a...</td>\n",
       "      <td>4</td>\n",
       "    </tr>\n",
       "    <tr>\n",
       "      <th>4</th>\n",
       "      <td>002ba53</td>\n",
       "      <td>Dear, State Senator\\n\\nThis is a letter to arg...</td>\n",
       "      <td>3</td>\n",
       "    </tr>\n",
       "  </tbody>\n",
       "</table>\n",
       "</div>"
      ],
      "text/plain": [
       "  essay_id                                          full_text  score\n",
       "0  000d118  Many people have car where they live. The thin...      3\n",
       "1  000fe60  I am a scientist at NASA that is discussing th...      3\n",
       "2  001ab80  People always wish they had the same technolog...      4\n",
       "3  001bdc0  We all heard about Venus, the planet without a...      4\n",
       "4  002ba53  Dear, State Senator\\n\\nThis is a letter to arg...      3"
      ]
     },
     "execution_count": 1,
     "metadata": {},
     "output_type": "execute_result"
    }
   ],
   "source": [
    "import pandas as pd\n",
    "import numpy as np\n",
    "\n",
    "train = pd.read_csv('data/train.csv')\n",
    "train.head()"
   ]
  },
  {
   "cell_type": "markdown",
   "id": "69f5a768-ce73-4c9d-b813-8f629e18203d",
   "metadata": {},
   "source": [
    "## Preprocess Text"
   ]
  },
  {
   "cell_type": "code",
   "execution_count": 2,
   "id": "31635325-de28-4070-9d4d-78adc18ea79a",
   "metadata": {},
   "outputs": [],
   "source": [
    "import re\n",
    "import string\n",
    "import nltk\n",
    "from nltk.tokenize import word_tokenize\n",
    "from nltk.stem import WordNetLemmatizer\n",
    "\n",
    "def preprocess_text(text):\n",
    "\n",
    "    # removes unprintable characters\n",
    "    unprintable = r\"[^\\w\\s]\"\n",
    "    text = re.sub(unprintable, '', text)\n",
    "\n",
    "    # removes non-breaking space characters\n",
    "    non_breaking = '\\xa0'\n",
    "    text = re.sub(non_breaking, ' ', text)\n",
    "\n",
    "    # removes newline characters\n",
    "    newline = '\\n'\n",
    "    text = re.sub(newline, ' ', text)\n",
    "\n",
    "    # removes punctuation\n",
    "    text = text.translate(str.maketrans('', '', string.punctuation))\n",
    "    \n",
    "    # lowercase the text\n",
    "    text = text.lower()\n",
    "    \n",
    "    # tokenization\n",
    "    tokens = word_tokenize(text)\n",
    "    \n",
    "    # lemmatization\n",
    "    lemmatizer = WordNetLemmatizer()\n",
    "    tokens = [lemmatizer.lemmatize(token) for token in tokens]\n",
    "    \n",
    "    # join tokens back into a string\n",
    "    preprocessed_text = ' '.join(tokens)\n",
    "    \n",
    "    return preprocessed_text\n",
    "\n",
    "train['full_text'] = [preprocess_text(x) for x in train['full_text']]"
   ]
  },
  {
   "cell_type": "markdown",
   "id": "c7e4f658-9ddf-4d51-add2-11c766aff5a7",
   "metadata": {},
   "source": [
    "## Drop misspellings"
   ]
  },
  {
   "cell_type": "code",
   "execution_count": 3,
   "id": "25ca1d1b-702c-4d75-b310-08e52cbdceaa",
   "metadata": {},
   "outputs": [],
   "source": [
    "from spellchecker import SpellChecker\n",
    "\n",
    "# creates a spellckecker object\n",
    "spell = SpellChecker()\n",
    "\n",
    "# returns a count of misspelled words\n",
    "def misspellings(essay, drop=True):\n",
    "\n",
    "    # the essay is split into words\n",
    "    words = essay.split()\n",
    "\n",
    "    # either drops or corrects unknown words\n",
    "    final_words = []\n",
    "    if drop == True:\n",
    "        # loops through each word\n",
    "        for word in words:\n",
    "            \n",
    "            # checks if the word is known\n",
    "            if spell.known([word]):\n",
    "                \n",
    "                # appends to a list of words to return\n",
    "                final_words.append(word)\n",
    "    \n",
    "    else:\n",
    "        # loops through each word\n",
    "        for word in words:\n",
    "            \n",
    "            # checks if the word is known\n",
    "            if spell.known([word]):\n",
    "                \n",
    "                # appends to a list of words to return\n",
    "                final_words.append(word)\n",
    "\n",
    "            else:\n",
    "                # attempts to correct the word\n",
    "                correction = spell.correction(word)\n",
    "\n",
    "                # appends the correction if one was found\n",
    "                if correction != None:\n",
    "                    # appends to a list of words to return\n",
    "                    final_words.append(correction)\n",
    "\n",
    "    # joins the words back together with a space \n",
    "    return ' '.join(final_words)\n",
    "\n",
    "train['full_text'] = [misspellings(x) for x in train['full_text']]"
   ]
  },
  {
   "cell_type": "markdown",
   "id": "2398751a-51d9-4164-9378-0640f1c4b9c7",
   "metadata": {},
   "source": [
    "## Fit model"
   ]
  },
  {
   "cell_type": "code",
   "execution_count": 4,
   "id": "7b07babd-4a86-4990-8fbb-ab22f1384359",
   "metadata": {},
   "outputs": [
    {
     "name": "stdout",
     "output_type": "stream",
     "text": [
      "Building estimator 1 of 10 for this parallel run (total 10)...\n",
      "[LibSVM]Building estimator 2 of 10 for this parallel run (total 10)...\n",
      "[LibSVM]Building estimator 3 of 10 for this parallel run (total 10)...\n",
      "[LibSVM]Building estimator 4 of 10 for this parallel run (total 10)...\n",
      "[LibSVM]Building estimator 5 of 10 for this parallel run (total 10)...\n",
      "[LibSVM]Building estimator 6 of 10 for this parallel run (total 10)...\n",
      "[LibSVM]Building estimator 7 of 10 for this parallel run (total 10)...\n",
      "[LibSVM]Building estimator 8 of 10 for this parallel run (total 10)...\n",
      "[LibSVM]Building estimator 9 of 10 for this parallel run (total 10)...\n",
      "[LibSVM]Building estimator 10 of 10 for this parallel run (total 10)...\n",
      "[LibSVM]Building estimator 1 of 10 for this parallel run (total 10)...\n",
      "[LibSVM]Building estimator 2 of 10 for this parallel run (total 10)...\n",
      "[LibSVM]Building estimator 3 of 10 for this parallel run (total 10)...\n",
      "[LibSVM]Building estimator 4 of 10 for this parallel run (total 10)...\n",
      "[LibSVM]Building estimator 5 of 10 for this parallel run (total 10)...\n",
      "[LibSVM]Building estimator 6 of 10 for this parallel run (total 10)...\n",
      "[LibSVM]Building estimator 7 of 10 for this parallel run (total 10)...\n",
      "[LibSVM]Building estimator 8 of 10 for this parallel run (total 10)...\n",
      "[LibSVM]Building estimator 9 of 10 for this parallel run (total 10)...\n",
      "[LibSVM]Building estimator 10 of 10 for this parallel run (total 10)...\n",
      "[LibSVM]Building estimator 1 of 10 for this parallel run (total 10)...\n",
      "[LibSVM]Building estimator 2 of 10 for this parallel run (total 10)...\n",
      "[LibSVM]Building estimator 3 of 10 for this parallel run (total 10)...\n",
      "[LibSVM]Building estimator 4 of 10 for this parallel run (total 10)...\n",
      "[LibSVM]Building estimator 5 of 10 for this parallel run (total 10)...\n",
      "[LibSVM]Building estimator 6 of 10 for this parallel run (total 10)...\n",
      "[LibSVM]Building estimator 7 of 10 for this parallel run (total 10)...\n",
      "[LibSVM]Building estimator 8 of 10 for this parallel run (total 10)...\n",
      "[LibSVM]Building estimator 9 of 10 for this parallel run (total 10)...\n",
      "[LibSVM]Building estimator 10 of 10 for this parallel run (total 10)...\n",
      "[LibSVM]"
     ]
    }
   ],
   "source": [
    "from sklearn.feature_extraction.text import TfidfVectorizer\n",
    "from sklearn.model_selection import train_test_split\n",
    "from sklearn.ensemble import BaggingClassifier  \n",
    "from sklearn.svm import SVC  \n",
    "from sklearn.metrics import cohen_kappa_score\n",
    "\n",
    "def fit_model(ngram_range):\n",
    "\n",
    "    # a text vectorizer with a variable n-gram range is specified\n",
    "    text_vectorizer = TfidfVectorizer(\n",
    "    stop_words='english',\n",
    "    sublinear_tf=False,\n",
    "    strip_accents='unicode',\n",
    "    binary=True,\n",
    "    analyzer='word',\n",
    "    token_pattern=r'\\w{2,}',  \n",
    "    ngram_range=eval(ngram_range),\n",
    "    norm='l1', \n",
    "    use_idf=False, \n",
    "    smooth_idf=False,\n",
    "    max_features=600000,\n",
    "    min_df=30)\n",
    "\n",
    "    # vectorises the train text\n",
    "    x = text_vectorizer.fit_transform(train['full_text'])\n",
    "    y = train['score']\n",
    "\n",
    "    # splits the data into training and test sets\n",
    "    x_train, x_test, y_train, y_test = train_test_split(x, y, test_size=0.2, random_state=123)\n",
    "    \n",
    "    # fits a bagging model \n",
    "    model = BaggingClassifier(estimator=SVC(C=1.75, \n",
    "                                            kernel='rbf', \n",
    "                                            gamma='scale', \n",
    "                                            decision_function_shape='ovr', \n",
    "                                            random_state=123, \n",
    "                                            tol=1e-5, \n",
    "                                            shrinking=True, \n",
    "                                            verbose=True, \n",
    "                                            break_ties=True), \n",
    "                              n_estimators=10, \n",
    "                              random_state=123, \n",
    "                              verbose=3) \n",
    "    \n",
    "    model.fit(x_train, y_train.values.ravel())\n",
    "\n",
    "    # predicts test values\n",
    "    y_pred_bag = model.predict(x_test)\n",
    "\n",
    "    # evaluates predictions with the quadratic weighted Cohen Kappa\n",
    "    score = cohen_kappa_score(y_test.values.ravel(), y_pred_bag.ravel(), weights='quadratic')\n",
    "    \n",
    "    return score\n",
    "    \n",
    "# loops through each ngram range by vectorising text, fitting a model and evaluating performance\n",
    "ngram_ranges = ['(1, 1)', '(1, 2)', '(1, 3)']\n",
    "confusion_matrices = []\n",
    "averages = []\n",
    "for ngram_range in ngram_ranges:\n",
    "    score = fit_model(ngram_range)\n",
    "    averages.append(score)"
   ]
  },
  {
   "cell_type": "markdown",
   "id": "dfe1772f-8a6d-4c9a-8454-6582e4ae462c",
   "metadata": {},
   "source": [
    "## Visualize results"
   ]
  },
  {
   "cell_type": "code",
   "execution_count": 5,
   "id": "945e2c4e-5368-4f53-903b-286bb4af2168",
   "metadata": {},
   "outputs": [
    {
     "data": {
      "image/png": "[encoded data removed]",
      "text/plain": [
       "<Figure size 1000x600 with 1 Axes>"
      ]
     },
     "metadata": {},
     "output_type": "display_data"
    }
   ],
   "source": [
    "import matplotlib.pyplot as plt\n",
    "\n",
    "# plots the results\n",
    "plt.figure(figsize=(10, 6));\n",
    "plt.plot(ngram_ranges, averages, marker='o', linestyle='-');\n",
    "plt.xlabel('N-Gram Range');\n",
    "plt.ylabel('Cohen\\'s Kappa Score');\n",
    "plt.title('N-Gram Range', size=30);\n",
    "plt.grid(True);\n",
    "plt.show();"
   ]
  }
 ],
 "metadata": {
  "kernelspec": {
   "display_name": "Python 3 (ipykernel)",
   "language": "python",
   "name": "python3"
  },
  "language_info": {
   "codemirror_mode": {
    "name": "ipython",
    "version": 3
   },
   "file_extension": ".py",
   "mimetype": "text/x-python",
   "name": "python",
   "nbconvert_exporter": "python",
   "pygments_lexer": "ipython3",
   "version": "3.11.7"
  }
 },
 "nbformat": 4,
 "nbformat_minor": 5
}
